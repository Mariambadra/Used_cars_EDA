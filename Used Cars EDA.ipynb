{
 "cells": [
  {
   "cell_type": "markdown",
   "id": "90f17bb6",
   "metadata": {},
   "source": [
    "### Liberies Importing"
   ]
  },
  {
   "cell_type": "code",
   "execution_count": 163,
   "id": "f6f65f9a",
   "metadata": {},
   "outputs": [],
   "source": [
    "import pandas as pd\n",
    "import matplotlib.pyplot as plt\n",
    "import seaborn as sns"
   ]
  },
  {
   "cell_type": "markdown",
   "id": "e1bd8295",
   "metadata": {},
   "source": [
    "### Dataset importing"
   ]
  },
  {
   "cell_type": "code",
   "execution_count": 138,
   "id": "e5303cec",
   "metadata": {},
   "outputs": [],
   "source": [
    "df = pd.read_csv('vehicles.csv',index_col='id')"
   ]
  },
  {
   "cell_type": "code",
   "execution_count": 141,
   "id": "882f6d0d",
   "metadata": {
    "scrolled": true
   },
   "outputs": [
    {
     "data": {
      "text/html": [
       "<div>\n",
       "<style scoped>\n",
       "    .dataframe tbody tr th:only-of-type {\n",
       "        vertical-align: middle;\n",
       "    }\n",
       "\n",
       "    .dataframe tbody tr th {\n",
       "        vertical-align: top;\n",
       "    }\n",
       "\n",
       "    .dataframe thead th {\n",
       "        text-align: right;\n",
       "    }\n",
       "</style>\n",
       "<table border=\"1\" class=\"dataframe\">\n",
       "  <thead>\n",
       "    <tr style=\"text-align: right;\">\n",
       "      <th></th>\n",
       "      <th>url</th>\n",
       "      <th>region</th>\n",
       "      <th>region_url</th>\n",
       "      <th>price</th>\n",
       "      <th>year</th>\n",
       "      <th>manufacturer</th>\n",
       "      <th>model</th>\n",
       "      <th>condition</th>\n",
       "      <th>cylinders</th>\n",
       "      <th>fuel</th>\n",
       "      <th>...</th>\n",
       "      <th>size</th>\n",
       "      <th>type</th>\n",
       "      <th>paint_color</th>\n",
       "      <th>image_url</th>\n",
       "      <th>description</th>\n",
       "      <th>county</th>\n",
       "      <th>state</th>\n",
       "      <th>lat</th>\n",
       "      <th>long</th>\n",
       "      <th>posting_date</th>\n",
       "    </tr>\n",
       "    <tr>\n",
       "      <th>id</th>\n",
       "      <th></th>\n",
       "      <th></th>\n",
       "      <th></th>\n",
       "      <th></th>\n",
       "      <th></th>\n",
       "      <th></th>\n",
       "      <th></th>\n",
       "      <th></th>\n",
       "      <th></th>\n",
       "      <th></th>\n",
       "      <th></th>\n",
       "      <th></th>\n",
       "      <th></th>\n",
       "      <th></th>\n",
       "      <th></th>\n",
       "      <th></th>\n",
       "      <th></th>\n",
       "      <th></th>\n",
       "      <th></th>\n",
       "      <th></th>\n",
       "      <th></th>\n",
       "    </tr>\n",
       "  </thead>\n",
       "  <tbody>\n",
       "    <tr>\n",
       "      <th>7222695916</th>\n",
       "      <td>https://prescott.craigslist.org/cto/d/prescott...</td>\n",
       "      <td>prescott</td>\n",
       "      <td>https://prescott.craigslist.org</td>\n",
       "      <td>6000</td>\n",
       "      <td>NaN</td>\n",
       "      <td>NaN</td>\n",
       "      <td>NaN</td>\n",
       "      <td>NaN</td>\n",
       "      <td>NaN</td>\n",
       "      <td>NaN</td>\n",
       "      <td>...</td>\n",
       "      <td>NaN</td>\n",
       "      <td>NaN</td>\n",
       "      <td>NaN</td>\n",
       "      <td>NaN</td>\n",
       "      <td>NaN</td>\n",
       "      <td>NaN</td>\n",
       "      <td>az</td>\n",
       "      <td>NaN</td>\n",
       "      <td>NaN</td>\n",
       "      <td>NaN</td>\n",
       "    </tr>\n",
       "    <tr>\n",
       "      <th>7218891961</th>\n",
       "      <td>https://fayar.craigslist.org/ctd/d/bentonville...</td>\n",
       "      <td>fayetteville</td>\n",
       "      <td>https://fayar.craigslist.org</td>\n",
       "      <td>11900</td>\n",
       "      <td>NaN</td>\n",
       "      <td>NaN</td>\n",
       "      <td>NaN</td>\n",
       "      <td>NaN</td>\n",
       "      <td>NaN</td>\n",
       "      <td>NaN</td>\n",
       "      <td>...</td>\n",
       "      <td>NaN</td>\n",
       "      <td>NaN</td>\n",
       "      <td>NaN</td>\n",
       "      <td>NaN</td>\n",
       "      <td>NaN</td>\n",
       "      <td>NaN</td>\n",
       "      <td>ar</td>\n",
       "      <td>NaN</td>\n",
       "      <td>NaN</td>\n",
       "      <td>NaN</td>\n",
       "    </tr>\n",
       "    <tr>\n",
       "      <th>7221797935</th>\n",
       "      <td>https://keys.craigslist.org/cto/d/summerland-k...</td>\n",
       "      <td>florida keys</td>\n",
       "      <td>https://keys.craigslist.org</td>\n",
       "      <td>21000</td>\n",
       "      <td>NaN</td>\n",
       "      <td>NaN</td>\n",
       "      <td>NaN</td>\n",
       "      <td>NaN</td>\n",
       "      <td>NaN</td>\n",
       "      <td>NaN</td>\n",
       "      <td>...</td>\n",
       "      <td>NaN</td>\n",
       "      <td>NaN</td>\n",
       "      <td>NaN</td>\n",
       "      <td>NaN</td>\n",
       "      <td>NaN</td>\n",
       "      <td>NaN</td>\n",
       "      <td>fl</td>\n",
       "      <td>NaN</td>\n",
       "      <td>NaN</td>\n",
       "      <td>NaN</td>\n",
       "    </tr>\n",
       "    <tr>\n",
       "      <th>7222270760</th>\n",
       "      <td>https://worcester.craigslist.org/cto/d/west-br...</td>\n",
       "      <td>worcester / central MA</td>\n",
       "      <td>https://worcester.craigslist.org</td>\n",
       "      <td>1500</td>\n",
       "      <td>NaN</td>\n",
       "      <td>NaN</td>\n",
       "      <td>NaN</td>\n",
       "      <td>NaN</td>\n",
       "      <td>NaN</td>\n",
       "      <td>NaN</td>\n",
       "      <td>...</td>\n",
       "      <td>NaN</td>\n",
       "      <td>NaN</td>\n",
       "      <td>NaN</td>\n",
       "      <td>NaN</td>\n",
       "      <td>NaN</td>\n",
       "      <td>NaN</td>\n",
       "      <td>ma</td>\n",
       "      <td>NaN</td>\n",
       "      <td>NaN</td>\n",
       "      <td>NaN</td>\n",
       "    </tr>\n",
       "    <tr>\n",
       "      <th>7210384030</th>\n",
       "      <td>https://greensboro.craigslist.org/cto/d/trinit...</td>\n",
       "      <td>greensboro</td>\n",
       "      <td>https://greensboro.craigslist.org</td>\n",
       "      <td>4900</td>\n",
       "      <td>NaN</td>\n",
       "      <td>NaN</td>\n",
       "      <td>NaN</td>\n",
       "      <td>NaN</td>\n",
       "      <td>NaN</td>\n",
       "      <td>NaN</td>\n",
       "      <td>...</td>\n",
       "      <td>NaN</td>\n",
       "      <td>NaN</td>\n",
       "      <td>NaN</td>\n",
       "      <td>NaN</td>\n",
       "      <td>NaN</td>\n",
       "      <td>NaN</td>\n",
       "      <td>nc</td>\n",
       "      <td>NaN</td>\n",
       "      <td>NaN</td>\n",
       "      <td>NaN</td>\n",
       "    </tr>\n",
       "  </tbody>\n",
       "</table>\n",
       "<p>5 rows × 25 columns</p>\n",
       "</div>"
      ],
      "text/plain": [
       "                                                          url  \\\n",
       "id                                                              \n",
       "7222695916  https://prescott.craigslist.org/cto/d/prescott...   \n",
       "7218891961  https://fayar.craigslist.org/ctd/d/bentonville...   \n",
       "7221797935  https://keys.craigslist.org/cto/d/summerland-k...   \n",
       "7222270760  https://worcester.craigslist.org/cto/d/west-br...   \n",
       "7210384030  https://greensboro.craigslist.org/cto/d/trinit...   \n",
       "\n",
       "                            region                         region_url  price  \\\n",
       "id                                                                             \n",
       "7222695916                prescott    https://prescott.craigslist.org   6000   \n",
       "7218891961            fayetteville       https://fayar.craigslist.org  11900   \n",
       "7221797935            florida keys        https://keys.craigslist.org  21000   \n",
       "7222270760  worcester / central MA   https://worcester.craigslist.org   1500   \n",
       "7210384030              greensboro  https://greensboro.craigslist.org   4900   \n",
       "\n",
       "            year manufacturer model condition cylinders fuel  ...  size type  \\\n",
       "id                                                            ...              \n",
       "7222695916   NaN          NaN   NaN       NaN       NaN  NaN  ...   NaN  NaN   \n",
       "7218891961   NaN          NaN   NaN       NaN       NaN  NaN  ...   NaN  NaN   \n",
       "7221797935   NaN          NaN   NaN       NaN       NaN  NaN  ...   NaN  NaN   \n",
       "7222270760   NaN          NaN   NaN       NaN       NaN  NaN  ...   NaN  NaN   \n",
       "7210384030   NaN          NaN   NaN       NaN       NaN  NaN  ...   NaN  NaN   \n",
       "\n",
       "           paint_color image_url description county state lat long  \\\n",
       "id                                                                   \n",
       "7222695916         NaN       NaN         NaN    NaN    az NaN  NaN   \n",
       "7218891961         NaN       NaN         NaN    NaN    ar NaN  NaN   \n",
       "7221797935         NaN       NaN         NaN    NaN    fl NaN  NaN   \n",
       "7222270760         NaN       NaN         NaN    NaN    ma NaN  NaN   \n",
       "7210384030         NaN       NaN         NaN    NaN    nc NaN  NaN   \n",
       "\n",
       "           posting_date  \n",
       "id                       \n",
       "7222695916          NaN  \n",
       "7218891961          NaN  \n",
       "7221797935          NaN  \n",
       "7222270760          NaN  \n",
       "7210384030          NaN  \n",
       "\n",
       "[5 rows x 25 columns]"
      ]
     },
     "execution_count": 141,
     "metadata": {},
     "output_type": "execute_result"
    }
   ],
   "source": [
    "df.head()"
   ]
  },
  {
   "cell_type": "code",
   "execution_count": 142,
   "id": "7756ccfb",
   "metadata": {},
   "outputs": [
    {
     "name": "stdout",
     "output_type": "stream",
     "text": [
      "<class 'pandas.core.frame.DataFrame'>\n",
      "Index: 426880 entries, 7222695916 to 7301591129\n",
      "Data columns (total 25 columns):\n",
      " #   Column        Non-Null Count   Dtype  \n",
      "---  ------        --------------   -----  \n",
      " 0   url           426880 non-null  object \n",
      " 1   region        426880 non-null  object \n",
      " 2   region_url    426880 non-null  object \n",
      " 3   price         426880 non-null  int64  \n",
      " 4   year          425675 non-null  float64\n",
      " 5   manufacturer  409234 non-null  object \n",
      " 6   model         421603 non-null  object \n",
      " 7   condition     252776 non-null  object \n",
      " 8   cylinders     249202 non-null  object \n",
      " 9   fuel          423867 non-null  object \n",
      " 10  odometer      422480 non-null  float64\n",
      " 11  title_status  418638 non-null  object \n",
      " 12  transmission  424324 non-null  object \n",
      " 13  VIN           265838 non-null  object \n",
      " 14  drive         296313 non-null  object \n",
      " 15  size          120519 non-null  object \n",
      " 16  type          334022 non-null  object \n",
      " 17  paint_color   296677 non-null  object \n",
      " 18  image_url     426812 non-null  object \n",
      " 19  description   426810 non-null  object \n",
      " 20  county        0 non-null       float64\n",
      " 21  state         426880 non-null  object \n",
      " 22  lat           420331 non-null  float64\n",
      " 23  long          420331 non-null  float64\n",
      " 24  posting_date  426812 non-null  object \n",
      "dtypes: float64(5), int64(1), object(19)\n",
      "memory usage: 84.7+ MB\n"
     ]
    }
   ],
   "source": [
    "df.info()"
   ]
  },
  {
   "cell_type": "code",
   "execution_count": 143,
   "id": "9f94a7a0",
   "metadata": {},
   "outputs": [
    {
     "data": {
      "text/plain": [
       "(426880, 25)"
      ]
     },
     "execution_count": 143,
     "metadata": {},
     "output_type": "execute_result"
    }
   ],
   "source": [
    "df.shape"
   ]
  },
  {
   "cell_type": "code",
   "execution_count": 144,
   "id": "37774740",
   "metadata": {},
   "outputs": [
    {
     "data": {
      "text/html": [
       "<div>\n",
       "<style scoped>\n",
       "    .dataframe tbody tr th:only-of-type {\n",
       "        vertical-align: middle;\n",
       "    }\n",
       "\n",
       "    .dataframe tbody tr th {\n",
       "        vertical-align: top;\n",
       "    }\n",
       "\n",
       "    .dataframe thead th {\n",
       "        text-align: right;\n",
       "    }\n",
       "</style>\n",
       "<table border=\"1\" class=\"dataframe\">\n",
       "  <thead>\n",
       "    <tr style=\"text-align: right;\">\n",
       "      <th></th>\n",
       "      <th>price</th>\n",
       "      <th>year</th>\n",
       "      <th>odometer</th>\n",
       "      <th>county</th>\n",
       "      <th>lat</th>\n",
       "      <th>long</th>\n",
       "    </tr>\n",
       "  </thead>\n",
       "  <tbody>\n",
       "    <tr>\n",
       "      <th>count</th>\n",
       "      <td>4.268800e+05</td>\n",
       "      <td>425675.000000</td>\n",
       "      <td>4.224800e+05</td>\n",
       "      <td>0.0</td>\n",
       "      <td>420331.000000</td>\n",
       "      <td>420331.000000</td>\n",
       "    </tr>\n",
       "    <tr>\n",
       "      <th>mean</th>\n",
       "      <td>7.519903e+04</td>\n",
       "      <td>2011.235191</td>\n",
       "      <td>9.804333e+04</td>\n",
       "      <td>NaN</td>\n",
       "      <td>38.493940</td>\n",
       "      <td>-94.748599</td>\n",
       "    </tr>\n",
       "    <tr>\n",
       "      <th>std</th>\n",
       "      <td>1.218228e+07</td>\n",
       "      <td>9.452120</td>\n",
       "      <td>2.138815e+05</td>\n",
       "      <td>NaN</td>\n",
       "      <td>5.841533</td>\n",
       "      <td>18.365462</td>\n",
       "    </tr>\n",
       "    <tr>\n",
       "      <th>min</th>\n",
       "      <td>0.000000e+00</td>\n",
       "      <td>1900.000000</td>\n",
       "      <td>0.000000e+00</td>\n",
       "      <td>NaN</td>\n",
       "      <td>-84.122245</td>\n",
       "      <td>-159.827728</td>\n",
       "    </tr>\n",
       "    <tr>\n",
       "      <th>25%</th>\n",
       "      <td>5.900000e+03</td>\n",
       "      <td>2008.000000</td>\n",
       "      <td>3.770400e+04</td>\n",
       "      <td>NaN</td>\n",
       "      <td>34.601900</td>\n",
       "      <td>-111.939847</td>\n",
       "    </tr>\n",
       "    <tr>\n",
       "      <th>50%</th>\n",
       "      <td>1.395000e+04</td>\n",
       "      <td>2013.000000</td>\n",
       "      <td>8.554800e+04</td>\n",
       "      <td>NaN</td>\n",
       "      <td>39.150100</td>\n",
       "      <td>-88.432600</td>\n",
       "    </tr>\n",
       "    <tr>\n",
       "      <th>75%</th>\n",
       "      <td>2.648575e+04</td>\n",
       "      <td>2017.000000</td>\n",
       "      <td>1.335425e+05</td>\n",
       "      <td>NaN</td>\n",
       "      <td>42.398900</td>\n",
       "      <td>-80.832039</td>\n",
       "    </tr>\n",
       "    <tr>\n",
       "      <th>max</th>\n",
       "      <td>3.736929e+09</td>\n",
       "      <td>2022.000000</td>\n",
       "      <td>1.000000e+07</td>\n",
       "      <td>NaN</td>\n",
       "      <td>82.390818</td>\n",
       "      <td>173.885502</td>\n",
       "    </tr>\n",
       "  </tbody>\n",
       "</table>\n",
       "</div>"
      ],
      "text/plain": [
       "              price           year      odometer  county            lat  \\\n",
       "count  4.268800e+05  425675.000000  4.224800e+05     0.0  420331.000000   \n",
       "mean   7.519903e+04    2011.235191  9.804333e+04     NaN      38.493940   \n",
       "std    1.218228e+07       9.452120  2.138815e+05     NaN       5.841533   \n",
       "min    0.000000e+00    1900.000000  0.000000e+00     NaN     -84.122245   \n",
       "25%    5.900000e+03    2008.000000  3.770400e+04     NaN      34.601900   \n",
       "50%    1.395000e+04    2013.000000  8.554800e+04     NaN      39.150100   \n",
       "75%    2.648575e+04    2017.000000  1.335425e+05     NaN      42.398900   \n",
       "max    3.736929e+09    2022.000000  1.000000e+07     NaN      82.390818   \n",
       "\n",
       "                long  \n",
       "count  420331.000000  \n",
       "mean      -94.748599  \n",
       "std        18.365462  \n",
       "min      -159.827728  \n",
       "25%      -111.939847  \n",
       "50%       -88.432600  \n",
       "75%       -80.832039  \n",
       "max       173.885502  "
      ]
     },
     "execution_count": 144,
     "metadata": {},
     "output_type": "execute_result"
    }
   ],
   "source": [
    "df.describe()"
   ]
  },
  {
   "cell_type": "markdown",
   "id": "04c9e786",
   "metadata": {},
   "source": [
    "### Data Cleaning"
   ]
  },
  {
   "cell_type": "markdown",
   "id": "df49ac78",
   "metadata": {},
   "source": [
    "### check duplicate"
   ]
  },
  {
   "cell_type": "code",
   "execution_count": 145,
   "id": "cf98b047",
   "metadata": {},
   "outputs": [
    {
     "data": {
      "text/plain": [
       "0"
      ]
     },
     "execution_count": 145,
     "metadata": {},
     "output_type": "execute_result"
    }
   ],
   "source": [
    "df.duplicated().sum()"
   ]
  },
  {
   "cell_type": "code",
   "execution_count": 146,
   "id": "a6e4f976",
   "metadata": {},
   "outputs": [],
   "source": [
    "#drop columns we will not use in the EDA\n",
    "df.drop(columns = ['url','region_url','image_url','description'],inplace=True)"
   ]
  },
  {
   "cell_type": "markdown",
   "id": "f80c1ad7",
   "metadata": {},
   "source": [
    "### Handling null values"
   ]
  },
  {
   "cell_type": "code",
   "execution_count": 147,
   "id": "c3ad2446",
   "metadata": {},
   "outputs": [
    {
     "data": {
      "text/plain": [
       "region          0.000000\n",
       "price           0.000000\n",
       "year            0.002823\n",
       "manufacturer    0.041337\n",
       "model           0.012362\n",
       "condition       0.407852\n",
       "cylinders       0.416225\n",
       "fuel            0.007058\n",
       "odometer        0.010307\n",
       "title_status    0.019308\n",
       "transmission    0.005988\n",
       "VIN             0.377254\n",
       "drive           0.305863\n",
       "size            0.717675\n",
       "type            0.217527\n",
       "paint_color     0.305011\n",
       "county          1.000000\n",
       "state           0.000000\n",
       "lat             0.015342\n",
       "long            0.015342\n",
       "posting_date    0.000159\n",
       "dtype: float64"
      ]
     },
     "execution_count": 147,
     "metadata": {},
     "output_type": "execute_result"
    }
   ],
   "source": [
    "#check columns for null values\n",
    "df.isna().sum()/len(df)"
   ]
  },
  {
   "cell_type": "code",
   "execution_count": 148,
   "id": "932c4bb5",
   "metadata": {},
   "outputs": [],
   "source": [
    "#drop columns with %70+ Missing values (county, size)\n",
    "df.drop(columns=['county','size'],inplace=True)"
   ]
  },
  {
   "cell_type": "code",
   "execution_count": 149,
   "id": "2016ed74",
   "metadata": {},
   "outputs": [],
   "source": [
    "#Replace numberic columns' null values with the mean\n",
    "numeric_col = ['year','odometer','lat', 'long']\n",
    "for col in numeric_col:\n",
    "    if col in df.columns:\n",
    "        df[col] = df[col].fillna(df[col].mean())"
   ]
  },
  {
   "cell_type": "code",
   "execution_count": 150,
   "id": "b802d46e",
   "metadata": {},
   "outputs": [
    {
     "name": "stdout",
     "output_type": "stream",
     "text": [
      "<class 'pandas.core.frame.DataFrame'>\n",
      "Index: 426880 entries, 7222695916 to 7301591129\n",
      "Data columns (total 19 columns):\n",
      " #   Column        Non-Null Count   Dtype  \n",
      "---  ------        --------------   -----  \n",
      " 0   region        426880 non-null  object \n",
      " 1   price         426880 non-null  int64  \n",
      " 2   year          426880 non-null  float64\n",
      " 3   manufacturer  409234 non-null  object \n",
      " 4   model         421603 non-null  object \n",
      " 5   condition     252776 non-null  object \n",
      " 6   cylinders     249202 non-null  object \n",
      " 7   fuel          423867 non-null  object \n",
      " 8   odometer      426880 non-null  float64\n",
      " 9   title_status  418638 non-null  object \n",
      " 10  transmission  424324 non-null  object \n",
      " 11  VIN           265838 non-null  object \n",
      " 12  drive         296313 non-null  object \n",
      " 13  type          334022 non-null  object \n",
      " 14  paint_color   296677 non-null  object \n",
      " 15  state         426880 non-null  object \n",
      " 16  lat           426880 non-null  float64\n",
      " 17  long          426880 non-null  float64\n",
      " 18  posting_date  426812 non-null  object \n",
      "dtypes: float64(4), int64(1), object(14)\n",
      "memory usage: 65.1+ MB\n"
     ]
    }
   ],
   "source": [
    "df.info()"
   ]
  },
  {
   "cell_type": "code",
   "execution_count": 151,
   "id": "1e942f0c",
   "metadata": {},
   "outputs": [
    {
     "data": {
      "text/plain": [
       "['manufacturer',\n",
       " 'model',\n",
       " 'condition',\n",
       " 'cylinders',\n",
       " 'fuel',\n",
       " 'title_status',\n",
       " 'transmission',\n",
       " 'VIN',\n",
       " 'drive',\n",
       " 'type',\n",
       " 'paint_color',\n",
       " 'posting_date']"
      ]
     },
     "execution_count": 151,
     "metadata": {},
     "output_type": "execute_result"
    }
   ],
   "source": [
    "cat_col = [col for col in df.columns if df[col].isna().sum() > 0 ]\n",
    "cat_col"
   ]
  },
  {
   "cell_type": "code",
   "execution_count": 152,
   "id": "43033a1f",
   "metadata": {},
   "outputs": [],
   "source": [
    "#replacing the missing values with the mode\n",
    "for col in cat_col:\n",
    "    df[col] = df[col].fillna(df[col].mode()[0])"
   ]
  },
  {
   "cell_type": "markdown",
   "id": "bdf9e058",
   "metadata": {},
   "source": [
    "- Back to the `descripe` step, we can find that the minimum car price is `0` which is not a reseonable value."
   ]
  },
  {
   "cell_type": "code",
   "execution_count": 153,
   "id": "819d3725",
   "metadata": {},
   "outputs": [
    {
     "data": {
      "text/plain": [
       "0"
      ]
     },
     "execution_count": 153,
     "metadata": {},
     "output_type": "execute_result"
    }
   ],
   "source": [
    "# minimum price\n",
    "df['price'].min()"
   ]
  },
  {
   "cell_type": "code",
   "execution_count": 154,
   "id": "d6639f8c",
   "metadata": {},
   "outputs": [],
   "source": [
    "#imputing the minimum price with the mean\n",
    "df['price'] = df['price'].apply(lambda x: df['price'].mean() if x == 0 else x)"
   ]
  },
  {
   "cell_type": "markdown",
   "id": "cef702d6",
   "metadata": {},
   "source": [
    "- The datatype of the `year` column should be changed to str"
   ]
  },
  {
   "cell_type": "code",
   "execution_count": 157,
   "id": "2aa6fd58",
   "metadata": {},
   "outputs": [],
   "source": [
    "df['year'] = df['year'].astype('int').astype('str')"
   ]
  },
  {
   "cell_type": "markdown",
   "id": "955b3ed4",
   "metadata": {},
   "source": [
    "### EDA"
   ]
  },
  {
   "cell_type": "markdown",
   "id": "29c8c1e4",
   "metadata": {},
   "source": [
    "- ### What is the most expensive car?"
   ]
  },
  {
   "cell_type": "code",
   "execution_count": 98,
   "id": "5a63ed3e",
   "metadata": {},
   "outputs": [
    {
     "name": "stdout",
     "output_type": "stream",
     "text": [
      "The most expensice car VIN is: 1FMJU1JT1HEA52352\n"
     ]
    }
   ],
   "source": [
    "print('The most expensice car VIN is:',df.loc[df['price']== df['price'].max(),'VIN'].iloc[0])"
   ]
  },
  {
   "cell_type": "markdown",
   "id": "89f78272",
   "metadata": {},
   "source": [
    "- ### What is the distribution of the price?"
   ]
  },
  {
   "cell_type": "code",
   "execution_count": 105,
   "id": "13367183",
   "metadata": {},
   "outputs": [
    {
     "data": {
      "image/png": "[encoded data removed]",
      "text/plain": [
       "<Figure size 800x600 with 1 Axes>"
      ]
     },
     "metadata": {},
     "output_type": "display_data"
    }
   ],
   "source": [
    "plt.figure(figsize=(8, 6))\n",
    "plt.hist(df['price'], bins=30, color='skyblue', edgecolor='black')\n",
    "plt.xlabel('Price')\n",
    "plt.ylabel('Frequency')\n",
    "plt.title('Distribution of Price')\n",
    "plt.show()"
   ]
  },
  {
   "cell_type": "code",
   "execution_count": 108,
   "id": "d87ad11a",
   "metadata": {},
   "outputs": [],
   "source": [
    "#Remove the outliers\n",
    "df_filtered = df[df['price'] < df['price'].quantile(0.99)]"
   ]
  },
  {
   "cell_type": "code",
   "execution_count": 109,
   "id": "5f2459b8",
   "metadata": {},
   "outputs": [
    {
     "data": {
      "image/png": "[encoded data removed]",
      "text/plain": [
       "<Figure size 800x600 with 1 Axes>"
      ]
     },
     "metadata": {},
     "output_type": "display_data"
    }
   ],
   "source": [
    "plt.figure(figsize=(8, 6))\n",
    "plt.hist(df_filtered['price'], bins=30, color='skyblue', edgecolor='black')\n",
    "plt.xlabel('Price')\n",
    "plt.ylabel('Frequency')\n",
    "plt.title('Distribution of Price')\n",
    "plt.show()"
   ]
  },
  {
   "cell_type": "markdown",
   "id": "c14ffa23",
   "metadata": {},
   "source": [
    "- ### Number of cars in each type"
   ]
  },
  {
   "cell_type": "code",
   "execution_count": 112,
   "id": "eb130c76",
   "metadata": {},
   "outputs": [
    {
     "data": {
      "image/png": "[encoded data removed]",
      "text/plain": [
       "<Figure size 640x480 with 1 Axes>"
      ]
     },
     "metadata": {},
     "output_type": "display_data"
    }
   ],
   "source": [
    "np_cars = df['type'].value_counts().plot(kind= 'barh')"
   ]
  },
  {
   "cell_type": "markdown",
   "id": "07758c30",
   "metadata": {},
   "source": [
    "- ### Price average by each region"
   ]
  },
  {
   "cell_type": "code",
   "execution_count": 120,
   "id": "114177f4",
   "metadata": {},
   "outputs": [
    {
     "data": {
      "text/plain": [
       "region\n",
       "frederick          4.925301e+06\n",
       "delaware           3.209256e+06\n",
       "humboldt county    2.911129e+06\n",
       "modesto            1.406687e+06\n",
       "knoxville          1.376416e+06\n",
       "eugene             1.277038e+06\n",
       "south jersey       1.035322e+06\n",
       "stillwater         6.598857e+05\n",
       "birmingham         6.226576e+05\n",
       "indianapolis       5.578140e+05\n",
       "Name: price, dtype: float64"
      ]
     },
     "execution_count": 120,
     "metadata": {},
     "output_type": "execute_result"
    }
   ],
   "source": [
    "df.groupby('region')['price'].mean().sort_values(ascending = False)[:10]"
   ]
  },
  {
   "cell_type": "markdown",
   "id": "a37ece87",
   "metadata": {},
   "source": [
    "- ### Price average per year"
   ]
  },
  {
   "cell_type": "code",
   "execution_count": 161,
   "id": "9d2d2594",
   "metadata": {},
   "outputs": [
    {
     "data": {
      "text/plain": [
       "year\n",
       "1960    1.648183e+07\n",
       "1989    2.479538e+06\n",
       "2000    1.703014e+06\n",
       "1902    1.666666e+06\n",
       "1999    1.616768e+06\n",
       "2021    1.351363e+06\n",
       "1980    4.299888e+05\n",
       "1965    3.602372e+05\n",
       "2007    2.646613e+05\n",
       "1993    1.517279e+05\n",
       "Name: price, dtype: float64"
      ]
     },
     "execution_count": 161,
     "metadata": {},
     "output_type": "execute_result"
    }
   ],
   "source": [
    "df.groupby('year')['price'].mean().sort_values(ascending = False)[:10]"
   ]
  },
  {
   "cell_type": "markdown",
   "id": "f07ab424",
   "metadata": {},
   "source": [
    "- ### change of price over the last 20 years"
   ]
  },
  {
   "cell_type": "code",
   "execution_count": 175,
   "id": "cc37a88e",
   "metadata": {},
   "outputs": [
    {
     "data": {
      "image/png": "[encoded data removed]",
      "text/plain": [
       "<Figure size 1000x600 with 1 Axes>"
      ]
     },
     "metadata": {},
     "output_type": "display_data"
    }
   ],
   "source": [
    "price_by_year = df.groupby('year')['price'].mean()[-20:]\n",
    "plt.figure(figsize=(10,6))\n",
    "sns.lineplot(x=price_by_year.index, y=price_by_year.values, marker='o', color='b')\n",
    "plt.title('Average Price of Cars Over Manufacturing Years')\n",
    "plt.xlabel('Year')\n",
    "plt.ylabel('Average Price')\n",
    "plt.show()"
   ]
  },
  {
   "cell_type": "code",
   "execution_count": null,
   "id": "af70a43c",
   "metadata": {},
   "outputs": [],
   "source": []
  }
 ],
 "metadata": {
  "kernelspec": {
   "display_name": "Python 3 (ipykernel)",
   "language": "python",
   "name": "python3"
  },
  "language_info": {
   "codemirror_mode": {
    "name": "ipython",
    "version": 3
   },
   "file_extension": ".py",
   "mimetype": "text/x-python",
   "name": "python",
   "nbconvert_exporter": "python",
   "pygments_lexer": "ipython3",
   "version": "3.10.13"
  }
 },
 "nbformat": 4,
 "nbformat_minor": 5
}
